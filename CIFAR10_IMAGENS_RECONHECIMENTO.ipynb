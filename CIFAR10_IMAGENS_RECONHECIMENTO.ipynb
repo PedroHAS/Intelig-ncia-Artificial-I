{
  "nbformat": 4,
  "nbformat_minor": 0,
  "metadata": {
    "colab": {
      "provenance": [],
      "authorship_tag": "ABX9TyNtW0TTXTFLmjop7wixmwPi",
      "include_colab_link": true
    },
    "kernelspec": {
      "name": "python3",
      "display_name": "Python 3"
    },
    "language_info": {
      "name": "python"
    }
  },
  "cells": [
    {
      "cell_type": "markdown",
      "metadata": {
        "id": "view-in-github",
        "colab_type": "text"
      },
      "source": [
        "<a href=\"https://colab.research.google.com/github/PedroHAS/Intelig-ncia-Artificial-I/blob/main/CIFAR10_IMAGENS_RECONHECIMENTO.ipynb\" target=\"_parent\"><img src=\"https://colab.research.google.com/assets/colab-badge.svg\" alt=\"Open In Colab\"/></a>"
      ]
    },
    {
      "cell_type": "code",
      "execution_count": 1,
      "metadata": {
        "colab": {
          "base_uri": "https://localhost:8080/"
        },
        "id": "Q7pGNo7-VISa",
        "outputId": "e24ad88d-18a7-47b2-c632-a932a38f0c44"
      },
      "outputs": [
        {
          "output_type": "stream",
          "name": "stdout",
          "text": [
            "Downloading data from https://www.cs.toronto.edu/~kriz/cifar-10-python.tar.gz\n",
            "170498071/170498071 [==============================] - 7s 0us/step\n",
            "Epoch 1/10\n",
            "1563/1563 [==============================] - 83s 52ms/step - loss: 1.4839 - accuracy: 0.4587 - val_loss: 1.2279 - val_accuracy: 0.5547\n",
            "Epoch 2/10\n",
            "1563/1563 [==============================] - 79s 51ms/step - loss: 1.0774 - accuracy: 0.6193 - val_loss: 0.9920 - val_accuracy: 0.6526\n",
            "Epoch 3/10\n",
            "1563/1563 [==============================] - 79s 51ms/step - loss: 0.9074 - accuracy: 0.6806 - val_loss: 0.9241 - val_accuracy: 0.6772\n",
            "Epoch 4/10\n",
            "1563/1563 [==============================] - 81s 52ms/step - loss: 0.7856 - accuracy: 0.7238 - val_loss: 0.8380 - val_accuracy: 0.7074\n",
            "Epoch 5/10\n",
            "1563/1563 [==============================] - 79s 50ms/step - loss: 0.6988 - accuracy: 0.7537 - val_loss: 0.9177 - val_accuracy: 0.6905\n",
            "Epoch 6/10\n",
            "1563/1563 [==============================] - 79s 51ms/step - loss: 0.6173 - accuracy: 0.7845 - val_loss: 0.8341 - val_accuracy: 0.7210\n",
            "Epoch 7/10\n",
            "1563/1563 [==============================] - 81s 52ms/step - loss: 0.5443 - accuracy: 0.8094 - val_loss: 0.8914 - val_accuracy: 0.7050\n",
            "Epoch 8/10\n",
            "1563/1563 [==============================] - 81s 52ms/step - loss: 0.4782 - accuracy: 0.8298 - val_loss: 0.8942 - val_accuracy: 0.7153\n",
            "Epoch 9/10\n",
            "1563/1563 [==============================] - 85s 54ms/step - loss: 0.4171 - accuracy: 0.8511 - val_loss: 0.9427 - val_accuracy: 0.7152\n",
            "Epoch 10/10\n",
            "1563/1563 [==============================] - 79s 50ms/step - loss: 0.3611 - accuracy: 0.8702 - val_loss: 0.9708 - val_accuracy: 0.7180\n",
            "313/313 [==============================] - 4s 13ms/step - loss: 0.9708 - accuracy: 0.7180\n",
            "Test accuracy: 0.7179999947547913\n"
          ]
        }
      ],
      "source": [
        "import tensorflow as tf\n",
        "from tensorflow.keras.datasets import cifar10\n",
        "from tensorflow.keras.preprocessing.image import ImageDataGenerator\n",
        "\n",
        "# Carregar os dados CIFAR-10\n",
        "(train_images, train_labels), (test_images, test_labels) = cifar10.load_data()\n",
        "\n",
        "# Pré-processamento das imagens\n",
        "train_images = train_images / 255.0\n",
        "test_images = test_images / 255.0\n",
        "\n",
        "# Definir o modelo CNN\n",
        "model = tf.keras.models.Sequential([\n",
        "    tf.keras.layers.Conv2D(32, (3, 3), activation='relu', input_shape=(32, 32, 3)),\n",
        "    tf.keras.layers.MaxPooling2D((2, 2)),\n",
        "    tf.keras.layers.Conv2D(64, (3, 3), activation='relu'),\n",
        "    tf.keras.layers.MaxPooling2D((2, 2)),\n",
        "    tf.keras.layers.Conv2D(128, (3, 3), activation='relu'),\n",
        "    tf.keras.layers.MaxPooling2D((2, 2)),\n",
        "    tf.keras.layers.Flatten(),\n",
        "    tf.keras.layers.Dense(512, activation='relu'),\n",
        "    tf.keras.layers.Dense(10, activation='softmax')\n",
        "])\n",
        "\n",
        "# Compilar o modelo\n",
        "model.compile(optimizer='adam',\n",
        "              loss='sparse_categorical_crossentropy',\n",
        "              metrics=['accuracy'])\n",
        "\n",
        "# Treinar o modelo\n",
        "history = model.fit(train_images, train_labels, epochs=10, validation_data=(test_images, test_labels))\n",
        "\n",
        "# Avaliar o modelo\n",
        "test_loss, test_acc = model.evaluate(test_images, test_labels)\n",
        "\n",
        "print('Test accuracy:', test_acc)\n"
      ]
    },
    {
      "cell_type": "code",
      "source": [
        "model.save('modelo_cifar10.h5')"
      ],
      "metadata": {
        "colab": {
          "base_uri": "https://localhost:8080/"
        },
        "id": "mG4MbjecYmwq",
        "outputId": "8cc59264-67ab-4384-c037-9e6fb0987868"
      },
      "execution_count": 2,
      "outputs": [
        {
          "output_type": "stream",
          "name": "stderr",
          "text": [
            "/usr/local/lib/python3.10/dist-packages/keras/src/engine/training.py:3103: UserWarning: You are saving your model as an HDF5 file via `model.save()`. This file format is considered legacy. We recommend using instead the native Keras format, e.g. `model.save('my_model.keras')`.\n",
            "  saving_api.save_model(\n"
          ]
        }
      ]
    },
    {
      "cell_type": "code",
      "source": [
        "from google.colab import drive\n",
        "drive.mount('/content/drive')\n",
        "\n",
        "import tensorflow as tf\n",
        "import numpy as np\n",
        "from tensorflow.keras.preprocessing import image\n",
        "\n",
        "# Carregar o modelo treinado\n",
        "model = tf.keras.models.load_model('modelo_cifar10.h5')\n",
        "\n",
        "# Caminho para a pasta contendo a imagem\n",
        "image_path = '/content/drive/My Drive/Colab Notebooks/img/gato.jpg'\n",
        "\n",
        "# Carregar a imagem\n",
        "img = image.load_img(image_path, target_size=(32, 32))\n",
        "img_array = image.img_to_array(img)\n",
        "img_array = np.expand_dims(img_array, axis=0)\n",
        "img_array /= 255.0  # Normalização\n",
        "\n",
        "# Fazer a previsão\n",
        "prediction = model.predict(img_array)\n",
        "predicted_class = np.argmax(prediction)\n",
        "\n",
        "# Mapear o número da classe para o nome da classe\n",
        "class_names = ['avião', 'automóvel', 'pássaro', 'gato', 'cervo', 'cachorro', 'sapo', 'cavalo', 'navio', 'caminhão']\n",
        "predicted_label = class_names[predicted_class]\n",
        "\n",
        "print('Predicted class:', predicted_label)\n",
        "\n"
      ],
      "metadata": {
        "colab": {
          "base_uri": "https://localhost:8080/"
        },
        "id": "-bX1k0GZYqjL",
        "outputId": "8c258865-7734-4c83-f6c5-80d1a0e52d5b"
      },
      "execution_count": 12,
      "outputs": [
        {
          "output_type": "stream",
          "name": "stdout",
          "text": [
            "Drive already mounted at /content/drive; to attempt to forcibly remount, call drive.mount(\"/content/drive\", force_remount=True).\n",
            "1/1 [==============================] - 0s 88ms/step\n",
            "Predicted class: sapo\n"
          ]
        }
      ]
    },
    {
      "cell_type": "code",
      "source": [
        "from google.colab import drive\n",
        "drive.mount('/content/drive')\n",
        "\n",
        "import tensorflow as tf\n",
        "import numpy as np\n",
        "from tensorflow.keras.preprocessing import image\n",
        "\n",
        "# Carregar o modelo treinado\n",
        "model = tf.keras.models.load_model('modelo_cifar10.h5')\n",
        "\n",
        "# Lista de nomes das classes\n",
        "class_names = ['avião', 'automóvel', 'pássaro', 'gato', 'cervo', 'cachorro', 'sapo', 'cavalo', 'navio', 'caminhão']\n",
        "\n",
        "# Diretório contendo as 20 imagens\n",
        "image_dir = '/content/drive/My Drive/Colab Notebooks/img/'\n",
        "\n",
        "# Loop sobre as 20 imagens\n",
        "for i in range(1, 21):\n",
        "    # Caminho da imagem atual\n",
        "    image_path = image_dir + f'imagem_{i}.jpg'\n",
        "\n",
        "    # Carregar a imagem\n",
        "    img = image.load_img(image_path, target_size=(32, 32))\n",
        "    img_array = image.img_to_array(img)\n",
        "    img_array = np.expand_dims(img_array, axis=0)\n",
        "    img_array /= 255.0  # Normalização\n",
        "\n",
        "    # Fazer a previsão\n",
        "    prediction = model.predict(img_array)\n",
        "    predicted_class = np.argmax(prediction)\n",
        "    predicted_label = class_names[predicted_class]\n",
        "\n",
        "    # Anotar o resultado da previsão\n",
        "    print(f'Imagem {i}: Predicted class: {predicted_label}')\n"
      ],
      "metadata": {
        "colab": {
          "base_uri": "https://localhost:8080/"
        },
        "id": "eZFHrk_EdbL1",
        "outputId": "cdd6eb7e-bd95-4072-9562-89d0642ae602"
      },
      "execution_count": 18,
      "outputs": [
        {
          "output_type": "stream",
          "name": "stdout",
          "text": [
            "Drive already mounted at /content/drive; to attempt to forcibly remount, call drive.mount(\"/content/drive\", force_remount=True).\n",
            "1/1 [==============================] - 0s 107ms/step\n",
            "Imagem 1: Predicted class: caminhão\n",
            "1/1 [==============================] - 0s 26ms/step\n",
            "Imagem 2: Predicted class: pássaro\n",
            "1/1 [==============================] - 0s 31ms/step\n",
            "Imagem 3: Predicted class: caminhão\n",
            "1/1 [==============================] - 0s 23ms/step\n",
            "Imagem 4: Predicted class: cervo\n",
            "1/1 [==============================] - 0s 23ms/step\n",
            "Imagem 5: Predicted class: sapo\n",
            "1/1 [==============================] - 0s 22ms/step\n",
            "Imagem 6: Predicted class: cavalo\n",
            "1/1 [==============================] - 0s 23ms/step\n",
            "Imagem 7: Predicted class: navio\n",
            "1/1 [==============================] - 0s 22ms/step\n",
            "Imagem 8: Predicted class: caminhão\n",
            "1/1 [==============================] - 0s 22ms/step\n",
            "Imagem 9: Predicted class: gato\n",
            "1/1 [==============================] - 0s 24ms/step\n",
            "Imagem 10: Predicted class: avião\n",
            "1/1 [==============================] - 0s 22ms/step\n",
            "Imagem 11: Predicted class: automóvel\n",
            "1/1 [==============================] - 0s 22ms/step\n",
            "Imagem 12: Predicted class: caminhão\n",
            "1/1 [==============================] - 0s 21ms/step\n",
            "Imagem 13: Predicted class: cachorro\n",
            "1/1 [==============================] - 0s 22ms/step\n",
            "Imagem 14: Predicted class: cachorro\n",
            "1/1 [==============================] - 0s 22ms/step\n",
            "Imagem 15: Predicted class: cervo\n",
            "1/1 [==============================] - 0s 21ms/step\n",
            "Imagem 16: Predicted class: navio\n",
            "1/1 [==============================] - 0s 21ms/step\n",
            "Imagem 17: Predicted class: cachorro\n",
            "1/1 [==============================] - 0s 20ms/step\n",
            "Imagem 18: Predicted class: cachorro\n",
            "1/1 [==============================] - 0s 22ms/step\n",
            "Imagem 19: Predicted class: cavalo\n",
            "1/1 [==============================] - 0s 23ms/step\n",
            "Imagem 20: Predicted class: avião\n"
          ]
        }
      ]
    }
  ]
}