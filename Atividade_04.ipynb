{
  "nbformat": 4,
  "nbformat_minor": 0,
  "metadata": {
    "colab": {
      "provenance": [],
      "authorship_tag": "ABX9TyO9bSQy8rS2OE7cai3ngwFr",
      "include_colab_link": true
    },
    "kernelspec": {
      "name": "python3",
      "display_name": "Python 3"
    },
    "language_info": {
      "name": "python"
    }
  },
  "cells": [
    {
      "cell_type": "markdown",
      "metadata": {
        "id": "view-in-github",
        "colab_type": "text"
      },
      "source": [
        "<a href=\"https://colab.research.google.com/github/PedroHAS/Intelig-ncia-Artificial-I/blob/main/Atividade_04.ipynb\" target=\"_parent\"><img src=\"https://colab.research.google.com/assets/colab-badge.svg\" alt=\"Open In Colab\"/></a>"
      ]
    },
    {
      "cell_type": "markdown",
      "source": [
        "Gerar Grafo\n"
      ],
      "metadata": {
        "id": "UFF_1duk-YJ1"
      }
    },
    {
      "cell_type": "code",
      "execution_count": 1,
      "metadata": {
        "id": "kKsukb3G-TW_"
      },
      "outputs": [],
      "source": [
        "import networkx as nx\n",
        "import matplotlib.pyplot as plt"
      ]
    },
    {
      "cell_type": "markdown",
      "source": [
        "Função para Criar um grafo de exemplo"
      ],
      "metadata": {
        "id": "drD5F0vH-xlx"
      }
    },
    {
      "cell_type": "code",
      "source": [
        "def criar_grafo_exemplo():\n",
        "    G = nx.Graph()\n",
        "\n",
        "    # Adiciona nós\n",
        "    G.add_nodes_from([\"X\", \"Y\", \"Z\", \"W\", \"V\", \"U\", \"T\", \"S\"])\n",
        "\n",
        "    # Adiciona arestas\n",
        "    G.add_edges_from([(\"X\", \"Y\"), (\"Y\", \"W\"), (\"Y\", \"V\"), (\"V\", \"S\"), (\"X\", \"Z\"), (\"Z\", \"U\"), (\"Z\", \"T\")])\n",
        "\n",
        "    return G\n"
      ],
      "metadata": {
        "id": "H-M1RbR6-2XB"
      },
      "execution_count": 2,
      "outputs": []
    },
    {
      "cell_type": "markdown",
      "source": [
        "Função para desenhar o Grafo"
      ],
      "metadata": {
        "id": "WL9WWzVn_Voj"
      }
    },
    {
      "cell_type": "code",
      "source": [
        "def desenhar_grafo(grafo):\n",
        "    pos = nx.spring_layout(grafo)\n",
        "    nx.draw(grafo, pos, with_labels=True, font_weight='bold', node_size=700, node_color='skyblue', font_size=10)\n",
        "    plt.show()"
      ],
      "metadata": {
        "id": "WbYM88jo_aOQ"
      },
      "execution_count": 3,
      "outputs": []
    },
    {
      "cell_type": "markdown",
      "source": [
        "Criar um grafo de exemplo"
      ],
      "metadata": {
        "id": "RibfAtph_ePY"
      }
    },
    {
      "cell_type": "code",
      "source": [
        "grafo_novo = criar_grafo_exemplo()"
      ],
      "metadata": {
        "id": "y5mKFB_N_gRo"
      },
      "execution_count": 4,
      "outputs": []
    },
    {
      "cell_type": "markdown",
      "source": [
        "Desenhar um grafo"
      ],
      "metadata": {
        "id": "-8dr_xsx_nqO"
      }
    },
    {
      "cell_type": "code",
      "source": [
        "desenhar_grafo(grafo_novo)"
      ],
      "metadata": {
        "colab": {
          "base_uri": "https://localhost:8080/",
          "height": 516
        },
        "id": "zQJsbBt0_pPF",
        "outputId": "11809e45-083c-429f-946d-fb2f12597b53"
      },
      "execution_count": 5,
      "outputs": [
        {
          "output_type": "display_data",
          "data": {
            "text/plain": [
              "<Figure size 640x480 with 1 Axes>"
            ],
            "image/png": "[encoded data removed]"
          },
          "metadata": {}
        }
      ]
    },
    {
      "cell_type": "markdown",
      "source": [
        "Algoritmo de Busca - \"Busca Cega\""
      ],
      "metadata": {
        "id": "2HsrzzxM_tul"
      }
    },
    {
      "cell_type": "code",
      "source": [
        "from collections import deque"
      ],
      "metadata": {
        "id": "S8Y3DsFr_2CL"
      },
      "execution_count": 6,
      "outputs": []
    },
    {
      "cell_type": "markdown",
      "source": [
        "Função para detectar o menor caminho à ser percorrido:"
      ],
      "metadata": {
        "id": "ufQK_lYq_3oF"
      }
    },
    {
      "cell_type": "code",
      "source": [
        "def busca_largura(grafo, inicio, objetivo):\n",
        "    fila = deque([(inicio, [inicio])])\n",
        "\n",
        "    while fila:\n",
        "        vertice, caminho = fila.popleft()\n",
        "        for vizinho in grafo[vertice]:\n",
        "            if vizinho not in caminho:\n",
        "                if vizinho == objetivo:\n",
        "                    return caminho + [vizinho]\n",
        "                else:\n",
        "                    fila.append((vizinho, caminho + [vizinho]))\n"
      ],
      "metadata": {
        "id": "0PwFxCTj_9Eb"
      },
      "execution_count": 7,
      "outputs": []
    },
    {
      "cell_type": "markdown",
      "source": [
        "Testar caminho mais curso:"
      ],
      "metadata": {
        "id": "6vtE_lFi__lk"
      }
    },
    {
      "cell_type": "code",
      "source": [
        "origem = \"X\"\n",
        "destino = \"S\"\n",
        "caminho_mais_curto = busca_largura(grafo_novo, origem, destino)\n",
        "print(f\"Caminho mais curto entre {origem} e {destino}: {caminho_mais_curto}\")"
      ],
      "metadata": {
        "colab": {
          "base_uri": "https://localhost:8080/"
        },
        "id": "6ZqZ-jBsABsc",
        "outputId": "eb0fb975-b2e7-4865-9864-2571d76fcca3"
      },
      "execution_count": 8,
      "outputs": [
        {
          "output_type": "stream",
          "name": "stdout",
          "text": [
            "Caminho mais curto entre X e S: ['X', 'Y', 'V', 'S']\n"
          ]
        }
      ]
    }
  ]
}